{
  "nbformat": 4,
  "nbformat_minor": 0,
  "metadata": {
    "colab": {
      "name": "NLP_202011029_Assignment2.ipynb",
      "provenance": [],
      "collapsed_sections": [],
      "machine_shape": "hm"
    },
    "kernelspec": {
      "name": "python3",
      "display_name": "Python 3.8.10 64-bit"
    },
    "language_info": {
      "name": "python",
      "version": "3.8.10",
      "mimetype": "text/x-python",
      "codemirror_mode": {
        "name": "ipython",
        "version": 3
      },
      "pygments_lexer": "ipython3",
      "nbconvert_exporter": "python",
      "file_extension": ".py"
    },
    "interpreter": {
      "hash": "31f2aee4e71d21fbe5cf8b01ff0e069b9275f58929596ceb00d14d90e3e16cd6"
    }
  },
  "cells": [
    {
      "cell_type": "markdown",
      "metadata": {
        "id": "9Er9CQeIoAs4"
      },
      "source": [
        "In this assignment, all the 4 distances discussed in YASS Stemmer paper have been implemented for stemming. For determining the efficiency of these approaches, MAP score has been calculated. For comparison, MAP score using Levenshtein distance, Word2Vec stemming and Porter Stemmer have also been calculated. \n",
        "\n",
        "After collecting the data in proper formats, acquiring a proper threshold for clustering was required. For that, different thresholds were taken and agglomerative clustering with complete linkage was used. Then graphs were plotted for picking the most optimal value of threshold. \n",
        "\n",
        "For clustering, Agglomerative clustering is used with average linkage. And then dictionary is made consisting of (word, stem) pair. This dictionary is made for all the distances and then the respective dictionaries are used for stemming of data and queries. And after performing stemming this way, MAP scores are calculated using PyTerrier.\n",
        "\n",
        "The MAP scores obtained are as follows. \n",
        "\n",
        "1.   Distance D1 - 0.350961\n",
        "2.   Distance D2 - 0.368940\n",
        "3.   Distance D3 - 0.359912\n",
        "4.   Distance D4 - 0.360361\n",
        "5.   Levenshtein - 0.358361\n",
        "6.   --Word2Vec- - 0.202755\n",
        "7.  -----Porter----- - 0.356276"
      ]
    },
    {
      "cell_type": "markdown",
      "metadata": {
        "id": "hwp8W-_PqlNO"
      },
      "source": [
        "**Downloading the dataset**"
      ]
    },
    {
      "cell_type": "code",
      "metadata": {
        "colab": {
          "base_uri": "https://localhost:8080/"
        },
        "id": "sBRu7iWjCAJI",
        "outputId": "98d54d96-33d0-4a79-e051-64f05c66daee"
      },
      "source": [
        "!gdown --id 1JuawXQmYVkjpfL3H0blqjDrqw8V1lHrC"
      ],
      "execution_count": null,
      "outputs": [
        {
          "output_type": "stream",
          "name": "stdout",
          "text": [
            "Downloading...\n",
            "From: https://drive.google.com/uc?id=1JuawXQmYVkjpfL3H0blqjDrqw8V1lHrC\n",
            "To: /content/FIRE_Dataset_EN_2010.rar\n",
            "133MB [00:02, 56.0MB/s]\n"
          ]
        }
      ]
    },
    {
      "cell_type": "markdown",
      "metadata": {
        "id": "ODisj96ZqopS"
      },
      "source": [
        "**Extracting the dataset**"
      ]
    },
    {
      "cell_type": "code",
      "metadata": {
        "colab": {
          "base_uri": "https://localhost:8080/"
        },
        "id": "RcdstwXeFREN",
        "outputId": "804a093e-ee4e-476b-adc2-61c30cccb21c"
      },
      "source": [
        "!unrar x -y FIRE_Dataset_EN_2010.rar"
      ],
      "execution_count": null,
      "outputs": [
        {
          "output_type": "stream",
          "name": "stdout",
          "text": [
            "\n",
            "UNRAR 5.50 freeware      Copyright (c) 1993-2017 Alexander Roshal\n",
            "\n",
            "\n",
            "Extracting from FIRE_Dataset_EN_2010.rar\n",
            "\n",
            "Creating    FIRE_Dataset_EN_2010                                      OK\n",
            "Extracting  FIRE_Dataset_EN_2010/en.qrels.76-125.2010.txt.gz             \b\b\b\b  0%\b\b\b\b\b  OK \n",
            "Extracting  FIRE_Dataset_EN_2010/en.topics.76-125.2010.txt               \b\b\b\b  0%\b\b\b\b\b  OK \n",
            "Extracting  FIRE_Dataset_EN_2010/English-Data.tgz                        \b\b\b\b  3%\b\b\b\b  6%\b\b\b\b  9%\b\b\b\b 12%\b\b\b\b 15%\b\b\b\b 19%\b\b\b\b 22%\b\b\b\b 25%\b\b\b\b 28%\b\b\b\b 31%\b\b\b\b 34%\b\b\b\b 37%\b\b\b\b 41%\b\b\b\b 44%\b\b\b\b 47%\b\b\b\b 50%\b\b\b\b 53%\b\b\b\b 56%\b\b\b\b 60%\b\b\b\b 63%\b\b\b\b 66%\b\b\b\b 69%\b\b\b\b 72%\b\b\b\b 75%\b\b\b\b 78%\b\b\b\b 82%\b\b\b\b 85%\b\b\b\b 88%\b\b\b\b 91%\b\b\b\b 94%\b\b\b\b 97%\b\b\b\b 99%\b\b\b\b\b  OK \n",
            "All OK\n"
          ]
        }
      ]
    },
    {
      "cell_type": "code",
      "metadata": {
        "id": "eH2YVe6SFRdE"
      },
      "source": [
        "!tar -xvzf FIRE_Dataset_EN_2010/English-Data.tgz"
      ],
      "execution_count": null,
      "outputs": []
    },
    {
      "cell_type": "code",
      "metadata": {
        "id": "ijeHaufTFSzM"
      },
      "source": [
        "!gzip -d FIRE_Dataset_EN_2010/en.qrels.76-125.2010.txt.gz"
      ],
      "execution_count": null,
      "outputs": []
    },
    {
      "cell_type": "markdown",
      "metadata": {
        "id": "rLff4FkNqs6w"
      },
      "source": [
        "**Importing necessary libraries and packages**"
      ]
    },
    {
      "cell_type": "code",
      "metadata": {
        "colab": {
          "base_uri": "https://localhost:8080/"
        },
        "id": "2v2u4hPdFUzt",
        "outputId": "fd08c0de-2e9b-492d-ff76-59e934cea624"
      },
      "source": [
        "import numpy as np\n",
        "import os\n",
        "import glob\n",
        "from bs4 import BeautifulSoup\n",
        "import lxml.html\n",
        "import re\n",
        "import nltk\n",
        "from nltk.corpus import stopwords\n",
        "from nltk.tokenize import word_tokenize\n",
        "from nltk.corpus import stopwords\n",
        "from nltk.stem.porter import PorterStemmer\n",
        "from nltk.stem import WordNetLemmatizer \n",
        "import pandas as pd\n",
        "from sklearn.cluster import AgglomerativeClustering\n",
        "import matplotlib.pyplot as plt\n",
        "from nltk.corpus import brown\n",
        "import bisect\n",
        "import xml.etree.ElementTree as ET\n",
        "from nltk.stem.porter import PorterStemmer\n",
        "import warnings\n",
        "warnings.filterwarnings(\"ignore\")\n",
        "\n",
        "nltk.download('punkt')\n",
        "nltk.download('stopwords')\n",
        "nltk.download('wordnet')\n",
        "nltk.download('averaged_perceptron_tagger')\n",
        "nltk.download('brown')"
      ],
      "execution_count": null,
      "outputs": [
        {
          "output_type": "stream",
          "name": "stdout",
          "text": [
            "[nltk_data] Downloading package punkt to /root/nltk_data...\n",
            "[nltk_data]   Unzipping tokenizers/punkt.zip.\n",
            "[nltk_data] Downloading package stopwords to /root/nltk_data...\n",
            "[nltk_data]   Unzipping corpora/stopwords.zip.\n",
            "[nltk_data] Downloading package wordnet to /root/nltk_data...\n",
            "[nltk_data]   Unzipping corpora/wordnet.zip.\n",
            "[nltk_data] Downloading package averaged_perceptron_tagger to\n",
            "[nltk_data]     /root/nltk_data...\n",
            "[nltk_data]   Unzipping taggers/averaged_perceptron_tagger.zip.\n",
            "[nltk_data] Downloading package brown to /root/nltk_data...\n",
            "[nltk_data]   Unzipping corpora/brown.zip.\n"
          ]
        },
        {
          "output_type": "execute_result",
          "data": {
            "text/plain": [
              "True"
            ]
          },
          "metadata": {},
          "execution_count": 5
        }
      ]
    },
    {
      "cell_type": "markdown",
      "metadata": {
        "id": "eLx4YkIlqwvQ"
      },
      "source": [
        "**Installing and importing PyTerrier**"
      ]
    },
    {
      "cell_type": "code",
      "metadata": {
        "id": "9vDAD1K9FcVE"
      },
      "source": [
        "!pip install python-terrier\n",
        "import pyterrier as pt\n",
        "if not pt.started():\n",
        "    pt.init()"
      ],
      "execution_count": null,
      "outputs": []
    },
    {
      "cell_type": "markdown",
      "metadata": {
        "id": "fnr_Gjy4q0MG"
      },
      "source": [
        "# Storing the brown corpus in proper format\n",
        "Brown corpus is later used when plotting the number of clusters vs threshold graphs for various distances and Word2Vec stemmer. "
      ]
    },
    {
      "cell_type": "code",
      "metadata": {
        "id": "FR8eCpl_HaU1"
      },
      "source": [
        "train_data = brown.words(categories='news')\n",
        "train_data = np.unique(train_data)"
      ],
      "execution_count": null,
      "outputs": []
    },
    {
      "cell_type": "code",
      "metadata": {
        "id": "BtPxUkqEIL3W"
      },
      "source": [
        "punc = '''!()-[]{};:'\"\\,<>./?@#$%^&*_~'''\n",
        "lemmatizer = WordNetLemmatizer() \n",
        "stop_words = set(stopwords.words('english'))\n",
        "\n",
        "# Removing non-alphabetic text and Converting text to lower-case\n",
        "words = [word.lower() for word in train_data if word.isalpha()]\n",
        "# Removing stopwords\n",
        "words = [w for w in words if not w in stop_words]\n",
        "# Performing lemmatization\n",
        "train_data = [lemmatizer.lemmatize(word) for word in words]"
      ],
      "execution_count": null,
      "outputs": []
    },
    {
      "cell_type": "markdown",
      "metadata": {
        "id": "-3DUr161rDSv"
      },
      "source": [
        "# Functions for the D1, D2, D3, D4 and Levenshtein Distances"
      ]
    },
    {
      "cell_type": "code",
      "metadata": {
        "id": "d5FVgWfsKiMG"
      },
      "source": [
        "def levenshtein(seq1, seq2):\n",
        "    size_x = len(seq1) + 1\n",
        "    size_y = len(seq2) + 1\n",
        "    matrix = np.zeros ((size_x, size_y))\n",
        "    for x in range(size_x):\n",
        "        matrix [x, 0] = x\n",
        "    for y in range(size_y):\n",
        "        matrix [0, y] = y\n",
        "\n",
        "    for x in range(1, size_x):\n",
        "        for y in range(1, size_y):\n",
        "            if seq1[x-1] == seq2[y-1]:\n",
        "                matrix [x,y] = min(\n",
        "                    matrix[x-1, y] + 1,\n",
        "                    matrix[x-1, y-1],\n",
        "                    matrix[x, y-1] + 1\n",
        "                )\n",
        "            else:\n",
        "                matrix [x,y] = min(\n",
        "                    matrix[x-1,y] + 1,\n",
        "                    matrix[x-1,y-1] + 1,\n",
        "                    matrix[x,y-1] + 1\n",
        "                )\n",
        "    return (matrix[size_x - 1, size_y - 1])\n",
        "\n",
        "\n",
        "def distance1(seq1, seq2):\n",
        "    size_x = len(seq1)\n",
        "    size_y = len(seq2)\n",
        "\n",
        "    max_size = max(size_x, size_y)\n",
        "    min_size = min(size_x, size_y)\n",
        "\n",
        "    p = [1]*max_size\n",
        "    \n",
        "    for i in range(max_size):\n",
        "        if(i < min_size and seq1[i]==seq2[i]):\n",
        "            p[i] = 0\n",
        "    \n",
        "    d = 0\n",
        "    for i in range(len(p)):\n",
        "        d = d + ((1/2**i)*p[i])\n",
        "    return d\n",
        "\n",
        "def distance2(seq1, seq2):\n",
        "    size_x = len(seq1)\n",
        "    size_y = len(seq2)\n",
        "\n",
        "    max_size = max(size_x, size_y)\n",
        "    min_size = min(size_x, size_y)\n",
        "\n",
        "    m = min_size\n",
        "\n",
        "    for i in range(max_size):\n",
        "        if(i < min_size and seq1[i]!=seq2[i]):\n",
        "            m = i\n",
        "            break\n",
        "\n",
        "    if m == 0: \n",
        "        return 10000\n",
        "\n",
        "    d = 0\n",
        "    for i in range(m, max_size):\n",
        "        d = d + ((1/2**(i-m)))\n",
        "    \n",
        "    return d*(1/m)\n",
        "\n",
        "def distance3(seq1, seq2):\n",
        "    size_x = len(seq1)\n",
        "    size_y = len(seq2)\n",
        "\n",
        "    max_size = max(size_x, size_y)\n",
        "    min_size = min(size_x, size_y)\n",
        "\n",
        "    m = min_size\n",
        "\n",
        "    for i in range(max_size):\n",
        "        if(i < min_size and seq1[i]!=seq2[i]):\n",
        "            m = i\n",
        "            break\n",
        "\n",
        "    if m == 0: \n",
        "        return 10000\n",
        "\n",
        "    d = 0\n",
        "    for i in range(m, max_size):\n",
        "        d = d + ((1/2**(i-m)))\n",
        "    \n",
        "    return d*((max_size-m+1)/m)\n",
        "\n",
        "def distance4(seq1, seq2):\n",
        "    size_x = len(seq1)\n",
        "    size_y = len(seq2)\n",
        "\n",
        "    max_size = max(size_x, size_y)\n",
        "    min_size = min(size_x, size_y)\n",
        "\n",
        "    m = min_size\n",
        "\n",
        "    for i in range(max_size):\n",
        "        if(i < min_size and seq1[i]!=seq2[i]):\n",
        "            m = i\n",
        "            break\n",
        "\n",
        "    d = 0\n",
        "    for i in range(m, max_size):\n",
        "        d = d + ((1/2**(i-m)))\n",
        "    \n",
        "    return d*((max_size-m+1)/(max_size+1))\n"
      ],
      "execution_count": null,
      "outputs": []
    },
    {
      "cell_type": "markdown",
      "metadata": {
        "id": "pyz22OKvrIWy"
      },
      "source": [
        "# Distance Matrices for five distances to be used for plotting graphs and later determining the threshold"
      ]
    },
    {
      "cell_type": "code",
      "metadata": {
        "colab": {
          "base_uri": "https://localhost:8080/"
        },
        "id": "jU44mqeRUhfg",
        "outputId": "42f3e51e-72f3-449b-a9e2-cb016956e5b4"
      },
      "source": [
        "size = 1000\n",
        "\n",
        "lv = [[0 for i in range(size)] for j in range(size)]\n",
        "d1 = [[0 for i in range(size)] for j in range(size)] \n",
        "d2 = [[0 for i in range(size)] for j in range(size)] \n",
        "d3 = [[0 for i in range(size)] for j in range(size)] \n",
        "d4 = [[0 for i in range(size)] for j in range(size)] \n",
        "\n",
        "print(\"Calculating Levenshtein, D1, D2, D3, D4 based distances...\")\n",
        "count = 0\n",
        "for i in range(size) : \n",
        "  for j in range(size) : \n",
        "    lv[i][j] = levenshtein(train_data[i], train_data[j])\n",
        "    d1[i][j] = distance1(train_data[i], train_data[j])\n",
        "    d2[i][j] = distance2(train_data[i], train_data[j])\n",
        "    d3[i][j] = distance3(train_data[i], train_data[j])\n",
        "    d4[i][j] = distance4(train_data[i], train_data[j])\n",
        "  count = count + 1\n",
        "  if count%100==0:\n",
        "    print(\"Progress: \", count, \" / \", size)"
      ],
      "execution_count": null,
      "outputs": [
        {
          "output_type": "stream",
          "name": "stdout",
          "text": [
            "Calculating Levenshtein, D1, D2, D3, D4 based distances...\n",
            "Progress:  100  /  1000\n",
            "Progress:  200  /  1000\n",
            "Progress:  300  /  1000\n",
            "Progress:  400  /  1000\n",
            "Progress:  500  /  1000\n",
            "Progress:  600  /  1000\n",
            "Progress:  700  /  1000\n",
            "Progress:  800  /  1000\n",
            "Progress:  900  /  1000\n",
            "Progress:  1000  /  1000\n"
          ]
        }
      ]
    },
    {
      "cell_type": "markdown",
      "metadata": {
        "id": "1SIuVXfSrW1W"
      },
      "source": [
        "# Plotting the number of clusters vs threshold\n",
        "\n",
        "In this section, we perform Aglomerative clustering for obtaining number of clusters for a particular threshold value for all the five distances."
      ]
    },
    {
      "cell_type": "code",
      "metadata": {
        "colab": {
          "base_uri": "https://localhost:8080/",
          "height": 1000
        },
        "id": "wh3TrjfEUiQQ",
        "outputId": "604d9252-6861-4541-e588-a3f613f4ede5"
      },
      "source": [
        "thresholds = [3, 4, 4.5, 5, 6, 10]\n",
        "print(\"Clustering based on Levenshtein Distance\")\n",
        "n_clusters = []\n",
        "for threshold in thresholds:\n",
        "    d_clustering = AgglomerativeClustering(linkage = 'complete', distance_threshold = threshold, n_clusters = None).fit(lv)\n",
        "    n_clusters.append(d_clustering.n_clusters_)\n",
        "\n",
        "plt.plot(thresholds, n_clusters)   \n",
        "plt.xlabel('Threshold') \n",
        "plt.ylabel('Number of Clusters')   \n",
        "plt.title('Clusters vs Thresholds for Levenshtein Distance') \n",
        "plt.show()\n",
        "\n",
        "thresholds = [0.4, 0.6, 1, 1.5, 2, 5]\n",
        "print(\"Clustering based on D1\")\n",
        "n_clusters = []\n",
        "for threshold in thresholds:\n",
        "    d_clustering = AgglomerativeClustering(linkage = 'complete', distance_threshold = threshold, n_clusters = None).fit(d1)\n",
        "    n_clusters.append(d_clustering.n_clusters_)\n",
        "\n",
        "plt.plot(thresholds, n_clusters)   \n",
        "plt.xlabel('Threshold') \n",
        "plt.ylabel('Number of Clusters')   \n",
        "plt.title('Clusters vs Thresholds for D1') \n",
        "plt.show()\n",
        "\n",
        "\n",
        "print(\"Clustering based on D2\")\n",
        "n_clusters = []\n",
        "for threshold in thresholds:\n",
        "    d_clustering = AgglomerativeClustering(linkage = 'complete', distance_threshold = threshold, n_clusters = None).fit(d2)\n",
        "    n_clusters.append(d_clustering.n_clusters_)\n",
        "\n",
        "plt.plot(thresholds, n_clusters)   \n",
        "plt.xlabel('Threshold') \n",
        "plt.ylabel('Number of Clusters')   \n",
        "plt.title('Clusters vs Thresholds for D2') \n",
        "plt.show()\n",
        "\n",
        "print(\"Clustering based on D3\")\n",
        "n_clusters = []\n",
        "for threshold in thresholds:\n",
        "    d_clustering = AgglomerativeClustering(linkage = 'complete', distance_threshold = threshold, n_clusters = None).fit(d3)\n",
        "    n_clusters.append(d_clustering.n_clusters_)\n",
        "\n",
        "plt.plot(thresholds, n_clusters)   \n",
        "plt.xlabel('Threshold') \n",
        "plt.ylabel('Number of Clusters')   \n",
        "plt.title('Clusters vs Thresholds for D3') \n",
        "plt.show()\n",
        "\n",
        "\n",
        "print(\"Clustering based on D4\")\n",
        "n_clusters = []\n",
        "for threshold in thresholds:\n",
        "    d_clustering = AgglomerativeClustering(linkage = 'complete', distance_threshold = threshold, n_clusters = None).fit(d4)\n",
        "    n_clusters.append(d_clustering.n_clusters_)\n",
        "\n",
        "plt.plot(thresholds, n_clusters)   \n",
        "plt.xlabel('Threshold') \n",
        "plt.ylabel('Number of Clusters')   \n",
        "plt.title('Clusters vs Thresholds for D4') \n",
        "plt.show()"
      ],
      "execution_count": null,
      "outputs": [
        {
          "output_type": "stream",
          "name": "stdout",
          "text": [
            "Clustering based on Levenshtein Distance\n"
          ]
        },
        {
          "output_type": "display_data",
          "data": {
            "image/png": "[encoded data removed]",
            "text/plain": [
              "<Figure size 432x288 with 1 Axes>"
            ]
          },
          "metadata": {
            "needs_background": "light"
          }
        },
        {
          "output_type": "stream",
          "name": "stdout",
          "text": [
            "Clustering based on D1\n"
          ]
        },
        {
          "output_type": "display_data",
          "data": {
            "image/png": "[encoded data removed]",
            "text/plain": [
              "<Figure size 432x288 with 1 Axes>"
            ]
          },
          "metadata": {
            "needs_background": "light"
          }
        },
        {
          "output_type": "stream",
          "name": "stdout",
          "text": [
            "Clustering based on D2\n"
          ]
        },
        {
          "output_type": "display_data",
          "data": {
            "image/png": "[encoded data removed]",
            "text/plain": [
              "<Figure size 432x288 with 1 Axes>"
            ]
          },
          "metadata": {
            "needs_background": "light"
          }
        },
        {
          "output_type": "stream",
          "name": "stdout",
          "text": [
            "Clustering based on D3\n"
          ]
        },
        {
          "output_type": "display_data",
          "data": {
            "image/png": "[encoded data removed]",
            "text/plain": [
              "<Figure size 432x288 with 1 Axes>"
            ]
          },
          "metadata": {
            "needs_background": "light"
          }
        },
        {
          "output_type": "stream",
          "name": "stdout",
          "text": [
            "Clustering based on D4\n"
          ]
        },
        {
          "output_type": "display_data",
          "data": {
            "image/png": "[encoded data removed]",
            "text/plain": [
              "<Figure size 432x288 with 1 Axes>"
            ]
          },
          "metadata": {
            "needs_background": "light"
          }
        }
      ]
    },
    {
      "cell_type": "markdown",
      "metadata": {
        "id": "QNoEr55Rrjae"
      },
      "source": [
        "# Preprocessing on FIRE Dataset\n",
        "\n",
        "In this section, basic preprocessing steps are performed on data of FIRE dataset. Data is then stored in proper formats. Also, dataframe for porterstemmer is generated in this step and later used in the end."
      ]
    },
    {
      "cell_type": "code",
      "metadata": {
        "colab": {
          "base_uri": "https://localhost:8080/"
        },
        "id": "rszMtPiWFk79",
        "outputId": "f5bb6b04-72ff-425b-9950-46ecbc8008eb"
      },
      "source": [
        "files = [] # List is storing file name and file content. File content is a list of words.\n",
        "punc = '''!()-[]{};:'\"\\,<>./?@#$%^&*_~''' \n",
        "porter = PorterStemmer()\n",
        "stop_words = set(stopwords.words('english'))\n",
        "pcorpus = []\n",
        "pfname = []\n",
        "print(\"Collecting data from files of FIRE dataset.\")\n",
        "i = 0\n",
        "for subdir, dirs, filenames in os.walk('TELEGRAPH_UTF8/'):\n",
        "    for file_obj in filenames:\n",
        "      i = i+1\n",
        "      filename = os.path.join(subdir, file_obj)\n",
        "      # Extracting data and saving it to raw_text\n",
        "      soup = BeautifulSoup(open(filename, \"r\").read())\n",
        "      raw_text = soup.find('text').get_text()\n",
        "      for sym in raw_text : \n",
        "        # Removing punctuation\n",
        "        if sym in punc : \n",
        "          raw_text = raw_text.replace(sym, \"\")\n",
        "\n",
        "      # Removing non-alphabetic text and Converting text to lower-case\n",
        "      words = [word.lower() for word in raw_text.split() if word.isalpha()]\n",
        "      # Removing stopwords\n",
        "      words = [w for w in words if not w in stop_words]\n",
        "      temp_file = []\n",
        "      # Storing filename to list\n",
        "      temp_file.append(str(file_obj))\n",
        "      # Storing file data to list\n",
        "      temp_file.append(words)\n",
        "      # Appending data to 'files' list\n",
        "      files.append(temp_file)\n",
        "\n",
        "      pstemmed = [porter.stem(word) for word in words]\n",
        "      pstemmed = ' '.join([str(word) for word in pstemmed])\n",
        "      if pstemmed != '':\n",
        "        pcorpus.append(pstemmed)\n",
        "        pfname.append(str(file_obj))\n",
        "\n",
        "print(\"Preprocessing on data done.\")\n",
        "print(\"Total Documents: \", len(files))\n",
        "\n",
        "print(\"Storing this data for performing various stemming methods later.\")\n",
        "temp_terms = []\n",
        "i = 0\n",
        "for curr_file in files : \n",
        "  for word in curr_file[1]:\n",
        "    temp_terms.append(word)\n",
        "  i = i + 1\n",
        "  if(i%10000==0): print(\"Progress: \", i, \" / \", len(files), \"   Total Words: \", len(temp_terms))\n",
        "print(\"Data stored properly for further usage.\")\n",
        "# Converting set to sorted list\n",
        "dataset = sorted(list(set(temp_terms)))\n",
        "print(\"\\n\")\n",
        "print(\"Making dataframe for stemmed words using Porter Stemmer (for later usage)\")\n",
        "df_data_ps = pd.DataFrame({'docno': pfname, 'text': pcorpus})\n",
        "del temp_terms"
      ],
      "execution_count": null,
      "outputs": [
        {
          "output_type": "stream",
          "name": "stdout",
          "text": [
            "Collecting data from files of FIRE dataset.\n",
            "Preprocessing on data done.\n",
            "Total Documents:  125586\n",
            "Storing this data for performing various stemming methods later.\n",
            "Progress:  10000  /  125586    Total Words:  2585461\n",
            "Progress:  20000  /  125586    Total Words:  5204165\n",
            "Progress:  30000  /  125586    Total Words:  7037242\n",
            "Progress:  40000  /  125586    Total Words:  9033664\n",
            "Progress:  50000  /  125586    Total Words:  12320028\n",
            "Progress:  60000  /  125586    Total Words:  14547687\n",
            "Progress:  70000  /  125586    Total Words:  16387413\n",
            "Progress:  80000  /  125586    Total Words:  18725383\n",
            "Progress:  90000  /  125586    Total Words:  21292751\n",
            "Progress:  100000  /  125586    Total Words:  24437174\n",
            "Progress:  110000  /  125586    Total Words:  26368325\n",
            "Progress:  120000  /  125586    Total Words:  28233348\n",
            "Data stored properly for further usage.\n",
            "\n",
            "\n",
            "Making dataframe for stemmed words using Porter Stemmer (for later usage)\n"
          ]
        }
      ]
    },
    {
      "cell_type": "code",
      "metadata": {
        "id": "3Mg0gEmnrdH_"
      },
      "source": [
        "train_data = sorted(train_data)"
      ],
      "execution_count": null,
      "outputs": []
    },
    {
      "cell_type": "markdown",
      "metadata": {
        "id": "OmFyVn2ysEl-"
      },
      "source": [
        "# Functions for making clusters and making stems on data\n",
        "\n",
        "This section contains to functions. One is for making clusters on the basis of dataset, linkage type in Agglomerative clustering, threshold value and distance type (out of 5 discussed in the YASS paper). \n",
        "\n",
        "The clustering is performed in 500x500 batches on the dataset that is sorted.\n",
        "\n",
        "The other one is for making stems which uses labels and number of clusters produced in the above function ans returns stems of the dataset."
      ]
    },
    {
      "cell_type": "code",
      "metadata": {
        "id": "crOF_1h9ptxp"
      },
      "source": [
        "def make_clusters(dataset, linkage_type, threshold, typ) :\n",
        "\n",
        "  d2 = []\n",
        "  dataset_labels = []\n",
        "  total_clusters = 0\n",
        "  last_count = 0\n",
        "  fname = []\n",
        "\n",
        "  count = 0\n",
        "  for i in range(len(dataset)) : \n",
        "    d = []\n",
        "    for j in range(last_count, min(last_count+500, len(dataset))) : \n",
        "      if typ == 1:\n",
        "        d.append(distance1(dataset[i], dataset[j]))\n",
        "      elif typ == 2:\n",
        "        d.append(distance2(dataset[i], dataset[j]))\n",
        "      elif typ == 3:\n",
        "        d.append(distance3(dataset[i], dataset[j]))\n",
        "      elif typ == 4:\n",
        "        d.append(distance4(dataset[i], dataset[j]))\n",
        "      elif typ == 5:\n",
        "        d.append(levenshtein(dataset[i],dataset[j]))\n",
        "    d2.append(d)\n",
        "    \n",
        "    count = count + 1\n",
        "    if count%500==0:\n",
        "      last_count = count\n",
        "\n",
        "      d_clustering = AgglomerativeClustering(linkage = linkage_type, distance_threshold = threshold, n_clusters = None).fit(d2)\n",
        "      labels = d_clustering.labels_\n",
        "      num_clusters = d_clustering.n_clusters_\n",
        "      \n",
        "      new_labels = [x+total_clusters for x in labels]\n",
        "      dataset_labels.extend(new_labels)\n",
        "\n",
        "      total_clusters = total_clusters + num_clusters\n",
        "      d2.clear()\n",
        "\n",
        "  return dataset_labels, total_clusters\n",
        "\n",
        "def make_stems(dataset_labels, total_clusters):\n",
        "    td = {}\n",
        "\n",
        "    for i in range(len(dataset_labels)):\n",
        "      if dataset_labels[i] in td.keys():\n",
        "          td[dataset_labels[i]].append(i)\n",
        "      else:\n",
        "          td[dataset_labels[i]] = [i]\n",
        "\n",
        "    stems = []\n",
        "\n",
        "    count = 0\n",
        "    for i in range(total_clusters):\n",
        "        min_size = 100\n",
        "        stem = None\n",
        "        for value in td[i]:\n",
        "          if(len(dataset[value]) < min_size):\n",
        "              min_size = len(dataset[value])\n",
        "              stem = dataset[value]\n",
        "        stems.append(stem)\n",
        "    return stems"
      ],
      "execution_count": null,
      "outputs": []
    },
    {
      "cell_type": "markdown",
      "metadata": {
        "id": "U3aT97oAs4NY"
      },
      "source": [
        "# Performing stemming and generating dataframes\n",
        "\n",
        "In this section, both the functions declared above are used. And then stemming is performed on the dataset and the data is stored in pandas dataframes for five distances D1, D2, D3, D4, and Lv. This is to be used for feeding to Terrier for MAP score."
      ]
    },
    {
      "cell_type": "code",
      "metadata": {
        "id": "DeusnaalqqJ5",
        "colab": {
          "base_uri": "https://localhost:8080/"
        },
        "outputId": "12fab535-675d-4075-b826-c944127bb9e3"
      },
      "source": [
        "print(\"Clustering using D1 started...\")\n",
        "dataset_labels_d1, total_clusters_d1 = make_clusters(dataset, \"average\", 1.0, 1)\n",
        "print(\"Clustering using D1 done.\")\n",
        "print(\"Stemming using D1 started...\")\n",
        "stems_d1 = make_stems(dataset_labels_d1, total_clusters_d1)\n",
        "\n",
        "fname = []\n",
        "files_temp = []\n",
        "\n",
        "for curr_file in files : \n",
        "  file_words = []\n",
        "  for word in curr_file[1]:\n",
        "    try: \n",
        "      stem_word = stems_d1[dataset_labels_d1[bisect.bisect_left(dataset, word)]]\n",
        "      file_words.append(stem_word)\n",
        "    except:\n",
        "      continue\n",
        "  file_words = ' '.join([str(word) for word in file_words])\n",
        "  if file_words != '':\n",
        "    files_temp.append(file_words)\n",
        "    fname.append(str(curr_file[0]))\n",
        "\n",
        "print(\"Stemming using D1 done.\")\n",
        "df_data_d1 = pd.DataFrame({'docno': fname, 'text': files_temp})\n",
        "del files_temp\n",
        "del fname\n",
        "\n",
        "print(\"=======================================================================\")\n",
        "\n",
        "print(\"Clustering using D2 started...\")\n",
        "dataset_labels_d2, total_clusters_d2 = make_clusters(dataset, \"average\", 1.0, 2)\n",
        "print(\"Clustering using D2 done.\")\n",
        "print(\"Stemming using D2 started...\")\n",
        "stems_d2 = make_stems(dataset_labels_d2, total_clusters_d2)\n",
        "\n",
        "fname = []\n",
        "files_temp = []\n",
        "\n",
        "for curr_file in files : \n",
        "  file_words = []\n",
        "  for word in curr_file[1]:\n",
        "    try: \n",
        "      stem_word = stems_d2[dataset_labels_d2[bisect.bisect_left(dataset, word)]]\n",
        "      file_words.append(stem_word)\n",
        "    except:\n",
        "      continue\n",
        "  file_words = ' '.join([str(word) for word in file_words])\n",
        "  if file_words != '':\n",
        "    files_temp.append(file_words)\n",
        "    fname.append(str(curr_file[0]))\n",
        "\n",
        "print(\"Stemming using D2 done.\")\n",
        "df_data_d2 = pd.DataFrame({'docno': fname, 'text': files_temp})\n",
        "del files_temp\n",
        "del fname\n",
        "\n",
        "print(\"=======================================================================\")\n",
        "\n",
        "print(\"Clustering using D3 started...\")\n",
        "dataset_labels_d3, total_clusters_d3 = make_clusters(dataset, \"average\", 0.7, 3)\n",
        "print(\"Clustering using D3 done.\")\n",
        "print(\"Stemming using D3 started...\")\n",
        "stems_d3 = make_stems(dataset_labels_d3, total_clusters_d3)\n",
        "\n",
        "fname = []\n",
        "files_temp = []\n",
        "\n",
        "for curr_file in files : \n",
        "  file_words = []\n",
        "  for word in curr_file[1]:\n",
        "    try: \n",
        "      stem_word = stems_d3[dataset_labels_d3[bisect.bisect_left(dataset, word)]]\n",
        "      file_words.append(stem_word)\n",
        "    except:\n",
        "      continue\n",
        "  file_words = ' '.join([str(word) for word in file_words])\n",
        "  if file_words != '':\n",
        "    files_temp.append(file_words)\n",
        "    fname.append(str(curr_file[0]))\n",
        "\n",
        "print(\"Stemming using D3 done.\")\n",
        "df_data_d3 = pd.DataFrame({'docno': fname, 'text': files_temp})\n",
        "del files_temp\n",
        "del fname\n",
        "\n",
        "print(\"=======================================================================\")\n",
        "\n",
        "print(\"Clustering using D4 started...\")\n",
        "dataset_labels_d4, total_clusters_d4 = make_clusters(dataset, \"average\", 1.0, 4)\n",
        "print(\"Clustering using D4 done.\")\n",
        "print(\"Stemming using D4 started...\")\n",
        "stems_d4 = make_stems(dataset_labels_d4, total_clusters_d4)\n",
        "\n",
        "fname = []\n",
        "files_temp = []\n",
        "\n",
        "for curr_file in files : \n",
        "  file_words = []\n",
        "  for word in curr_file[1]:\n",
        "    try: \n",
        "      stem_word = stems_d4[dataset_labels_d4[bisect.bisect_left(dataset, word)]]\n",
        "      file_words.append(stem_word)\n",
        "    except:\n",
        "      continue\n",
        "  file_words = ' '.join([str(word) for word in file_words])\n",
        "  if file_words != '':\n",
        "    files_temp.append(file_words)\n",
        "    fname.append(str(curr_file[0]))\n",
        "\n",
        "print(\"Stemming using D4 done.\")\n",
        "df_data_d4 = pd.DataFrame({'docno': fname, 'text': files_temp})\n",
        "del files_temp\n",
        "del fname\n",
        "\n",
        "print(\"=======================================================================\")\n",
        "\n",
        "print(\"Clustering using Levenshtein started...\")\n",
        "dataset_labels_lv, total_clusters_lv = make_clusters(dataset, \"average\", 1.0, 3)\n",
        "print(\"Clustering using Levenshtein done.\")\n",
        "print(\"Stemming using Levenshtein started...\")\n",
        "stems_lv = make_stems(dataset_labels_lv, total_clusters_lv)\n",
        "\n",
        "fname = []\n",
        "files_temp = []\n",
        "\n",
        "for curr_file in files : \n",
        "  file_words = []\n",
        "  for word in curr_file[1]:\n",
        "    try: \n",
        "      stem_word = stems_lv[dataset_labels_lv[bisect.bisect_left(dataset, word)]]\n",
        "      file_words.append(stem_word)\n",
        "    except:\n",
        "      continue\n",
        "  file_words = ' '.join([str(word) for word in file_words])\n",
        "  if file_words != '':\n",
        "    files_temp.append(file_words)\n",
        "    fname.append(str(curr_file[0]))\n",
        "\n",
        "print(\"Stemming using Levenshtein done.\")\n",
        "df_data_lv = pd.DataFrame({'docno': fname, 'text': files_temp})\n",
        "del files_temp\n",
        "del fname"
      ],
      "execution_count": null,
      "outputs": [
        {
          "output_type": "stream",
          "name": "stdout",
          "text": [
            "Clustering using D1 started...\n",
            "Clustering using D1 done.\n",
            "Stemming using D1 started...\n",
            "Stemming using D1 done.\n",
            "=======================================================================\n",
            "Clustering using D2 started...\n",
            "Clustering using D2 done.\n",
            "Stemming using D2 started...\n",
            "Stemming using D2 done.\n",
            "=======================================================================\n",
            "Clustering using D3 started...\n",
            "Clustering using D3 done.\n",
            "Stemming using D3 started...\n",
            "Stemming using D3 done.\n",
            "=======================================================================\n",
            "Clustering using D4 started...\n",
            "Clustering using D4 done.\n",
            "Stemming using D4 started...\n",
            "Stemming using D4 done.\n",
            "=======================================================================\n",
            "Clustering using Levenshtein started...\n",
            "Clustering using Levenshtein done.\n",
            "Stemming using Levenshtein started...\n",
            "Stemming using Levenshtein done.\n"
          ]
        }
      ]
    },
    {
      "cell_type": "markdown",
      "metadata": {
        "id": "PRr0kLoVtPzH"
      },
      "source": [
        "# Extracting and Preprocessing on Queries"
      ]
    },
    {
      "cell_type": "code",
      "metadata": {
        "colab": {
          "base_uri": "https://localhost:8080/"
        },
        "id": "4ZehPuVc60fO",
        "outputId": "30dafa40-157d-4c6e-f9e0-01101f2c4133"
      },
      "source": [
        "queryPath = \"FIRE_Dataset_EN_2010/en.topics.76-125.2010.txt\"\n",
        "tree = ET.parse(queryPath)\n",
        "root = tree.getroot()\n",
        "q_pcorpus = []\n",
        "q_pfname = []\n",
        "queries = []\n",
        "\n",
        "print(\"Collecting queries\")\n",
        "# Collecting Queries\n",
        "for records in root.findall('top'):\n",
        "    summary = records.find('num').text\n",
        "    full = records.find('title').text\n",
        "\n",
        "    words = [word.lower() for word in full.split() if word.isalpha()]\n",
        "    # Removing stopwords\n",
        "    words = [w for w in words if not w in stop_words]\n",
        "    queries.append([summary, words])\n",
        "    q_pstemmed = [porter.stem(word) for word in words]\n",
        "    q_pstemmed = ' '.join([str(word) for word in q_pstemmed])\n",
        "    if q_pstemmed != '':\n",
        "      q_pcorpus.append(q_pstemmed)\n",
        "      q_pfname.append(str(summary))\n",
        "print(\"Queries Collected\")\n",
        "print(\"\\n\")\n",
        "print(\"Making dataframe for stemmed queries using PorterStemmer (for later usage).\")\n",
        "df_queries_ps = pd.DataFrame({'qid':q_pfname, 'query':q_pcorpus})"
      ],
      "execution_count": null,
      "outputs": [
        {
          "output_type": "stream",
          "name": "stdout",
          "text": [
            "Collecting queries\n",
            "Queries Collected\n",
            "\n",
            "\n",
            "Making dataframe for stemmed queries using PorterStemmer (for later usage).\n"
          ]
        }
      ]
    },
    {
      "cell_type": "markdown",
      "metadata": {
        "id": "PQbpxBZztpUH"
      },
      "source": [
        "# Stemming on Queries using stems generated above"
      ]
    },
    {
      "cell_type": "code",
      "metadata": {
        "id": "e6Gi6noIgcSf",
        "colab": {
          "base_uri": "https://localhost:8080/"
        },
        "outputId": "18669741-868a-4eb8-8537-ae94c4ed3d18"
      },
      "source": [
        "print(\"Stemming on Queries using D1\")\n",
        "\n",
        "files_temp = []\n",
        "qno = []\n",
        "\n",
        "for curr_file in queries : \n",
        "  file_words = []\n",
        "  for word in curr_file[1]:\n",
        "    try: \n",
        "      if word in dataset:\n",
        "        stem_word = stems_d1[dataset_labels_d1[bisect.bisect_left(dataset, word)]]\n",
        "        file_words.append(stem_word)\n",
        "      else:\n",
        "        file_words.append(word)\n",
        "    except:\n",
        "      continue\n",
        "  file_words = ' '.join([str(word) for word in file_words])\n",
        "  files_temp.append(file_words)\n",
        "  qno.append(curr_file[0])\n",
        "\n",
        "df_queries_d1 = pd.DataFrame({'qid':qno, 'query':files_temp})\n",
        "del files_temp\n",
        "del qno\n",
        "\n",
        "print(\"=======================================================================\")\n",
        "\n",
        "print(\"Stemming on Queries using D2\")\n",
        "files_temp = []\n",
        "qno = []\n",
        "\n",
        "for curr_file in queries : \n",
        "  file_words = []\n",
        "  for word in curr_file[1]:\n",
        "    try: \n",
        "      if word in dataset :\n",
        "        stem_word = stems_d2[dataset_labels_d2[bisect.bisect_left(dataset, word)]]\n",
        "        file_words.append(stem_word)\n",
        "      else:\n",
        "        file_words.append(word)\n",
        "    except:\n",
        "      continue\n",
        "  file_words = ' '.join([str(word) for word in file_words])\n",
        "  files_temp.append(file_words)\n",
        "  qno.append(curr_file[0])\n",
        "\n",
        "df_queries_d2 = pd.DataFrame({'qid':qno, 'query':files_temp})\n",
        "del files_temp\n",
        "del qno\n",
        "\n",
        "print(\"=======================================================================\")\n",
        "\n",
        "print(\"Stemming on Queries using D3\")\n",
        "files_temp = []\n",
        "qno = []\n",
        "\n",
        "for curr_file in queries : \n",
        "  file_words = []\n",
        "  for word in curr_file[1]:\n",
        "    try: \n",
        "      if word in dataset :\n",
        "        stem_word = stems_d3[dataset_labels_d3[bisect.bisect_left(dataset, word)]]\n",
        "        file_words.append(stem_word)\n",
        "      else:\n",
        "        file_words.append(word)\n",
        "    except:\n",
        "      continue\n",
        "  file_words = ' '.join([str(word) for word in file_words])\n",
        "  files_temp.append(file_words)\n",
        "  qno.append(curr_file[0])\n",
        "\n",
        "df_queries_d3 = pd.DataFrame({'qid':qno, 'query':files_temp})\n",
        "del files_temp\n",
        "del qno\n",
        "\n",
        "print(\"=======================================================================\")\n",
        "\n",
        "print(\"Stemming on Queries using D4\")\n",
        "files_temp = []\n",
        "qno = []\n",
        "\n",
        "for curr_file in queries : \n",
        "  file_words = []\n",
        "  for word in curr_file[1]:\n",
        "    try: \n",
        "      if word in dataset :\n",
        "        stem_word = stems_d4[dataset_labels_d4[bisect.bisect_left(dataset, word)]]\n",
        "        file_words.append(stem_word)\n",
        "      else:\n",
        "        file_words.append(word)\n",
        "    except:\n",
        "      continue\n",
        "  file_words = ' '.join([str(word) for word in file_words])\n",
        "  files_temp.append(file_words)\n",
        "  qno.append(curr_file[0])\n",
        "\n",
        "df_queries_d4 = pd.DataFrame({'qid':qno, 'query':files_temp})\n",
        "del files_temp\n",
        "del qno\n",
        "\n",
        "print(\"=======================================================================\")\n",
        "\n",
        "print(\"Stemming on Queries using Levenshtein\")\n",
        "files_temp = []\n",
        "qno = []\n",
        "\n",
        "for curr_file in queries : \n",
        "  file_words = []\n",
        "  for word in curr_file[1]:\n",
        "    try: \n",
        "      if word in dataset :\n",
        "        stem_word = stems_lv[dataset_labels_lv[bisect.bisect_left(dataset, word)]]\n",
        "        file_words.append(stem_word)\n",
        "      else:\n",
        "        file_words.append(word)\n",
        "    except:\n",
        "      continue\n",
        "  file_words = ' '.join([str(word) for word in file_words])\n",
        "  files_temp.append(file_words)\n",
        "  qno.append(curr_file[0])\n",
        "\n",
        "df_queries_lv = pd.DataFrame({'qid':qno, 'query':files_temp})\n",
        "del files_temp\n",
        "del qno"
      ],
      "execution_count": null,
      "outputs": [
        {
          "output_type": "stream",
          "name": "stdout",
          "text": [
            "Stemming on Queries using D1\n",
            "=======================================================================\n",
            "Stemming on Queries using D2\n",
            "=======================================================================\n",
            "Stemming on Queries using D3\n",
            "=======================================================================\n",
            "Stemming on Queries using D4\n",
            "=======================================================================\n",
            "Stemming on Queries using Levenshtein\n"
          ]
        }
      ]
    },
    {
      "cell_type": "code",
      "metadata": {
        "id": "dsjcx3vXhD0o"
      },
      "source": [
        "qrels = pt.io.read_qrels('FIRE_Dataset_EN_2010/en.qrels.76-125.2010.txt')"
      ],
      "execution_count": null,
      "outputs": []
    },
    {
      "cell_type": "markdown",
      "metadata": {
        "id": "Rv3m3G1bt4lX"
      },
      "source": [
        "# MAP scores using Terrier for D1, D2, D3, D4, and Levenshtein"
      ]
    },
    {
      "cell_type": "code",
      "metadata": {
        "colab": {
          "base_uri": "https://localhost:8080/",
          "height": 97
        },
        "id": "KpO5ebehQabJ",
        "outputId": "bd4f9a55-49ec-428a-d721-e4df00cdf0ce"
      },
      "source": [
        "print(\"MAP Score using D1 with average linkage\")\n",
        "!rm -rf ./pd_index\n",
        "pd_indexer_d1 = pt.DFIndexer(\"./pd_index\")\n",
        "indexref_d1 = pd_indexer_d1.index(df_data_d1[\"text\"], df_data_d1[\"docno\"])\n",
        "del pd_indexer_d1\n",
        "batchRetrieval_d1 = [pt.BatchRetrieve(indexref_d1, wmodel='TF_IDF')]\n",
        "pt.Experiment(batchRetrieval_d1, df_queries_d1, qrels, ['map'])"
      ],
      "execution_count": null,
      "outputs": [
        {
          "output_type": "stream",
          "name": "stdout",
          "text": [
            "MAP Score using D1 with average linkage\n"
          ]
        },
        {
          "output_type": "execute_result",
          "data": {
            "text/html": [
              "<div>\n",
              "<style scoped>\n",
              "    .dataframe tbody tr th:only-of-type {\n",
              "        vertical-align: middle;\n",
              "    }\n",
              "\n",
              "    .dataframe tbody tr th {\n",
              "        vertical-align: top;\n",
              "    }\n",
              "\n",
              "    .dataframe thead th {\n",
              "        text-align: right;\n",
              "    }\n",
              "</style>\n",
              "<table border=\"1\" class=\"dataframe\">\n",
              "  <thead>\n",
              "    <tr style=\"text-align: right;\">\n",
              "      <th></th>\n",
              "      <th>name</th>\n",
              "      <th>map</th>\n",
              "    </tr>\n",
              "  </thead>\n",
              "  <tbody>\n",
              "    <tr>\n",
              "      <th>0</th>\n",
              "      <td>BR(TF_IDF)</td>\n",
              "      <td>0.350961</td>\n",
              "    </tr>\n",
              "  </tbody>\n",
              "</table>\n",
              "</div>"
            ],
            "text/plain": [
              "         name       map\n",
              "0  BR(TF_IDF)  0.350961"
            ]
          },
          "metadata": {},
          "execution_count": 19
        }
      ]
    },
    {
      "cell_type": "code",
      "metadata": {
        "id": "2HhQV3hVagr-",
        "colab": {
          "base_uri": "https://localhost:8080/",
          "height": 97
        },
        "outputId": "c772fce5-5471-43d9-b777-84f58b9ff460"
      },
      "source": [
        "print(\"MAP Score using D2 with average linkage\")\n",
        "!rm -rf ./pd_index\n",
        "pd_indexer_d2 = pt.DFIndexer(\"./pd_index\")\n",
        "indexref_d2 = pd_indexer_d2.index(df_data_d2[\"text\"], df_data_d2[\"docno\"])\n",
        "del pd_indexer_d2\n",
        "batchRetrieval_d2 = [pt.BatchRetrieve(indexref_d2, wmodel='TF_IDF')]\n",
        "pt.Experiment(batchRetrieval_d2, df_queries_d2, qrels, ['map'])"
      ],
      "execution_count": null,
      "outputs": [
        {
          "output_type": "stream",
          "name": "stdout",
          "text": [
            "MAP Score using D2 with average linkage\n"
          ]
        },
        {
          "output_type": "execute_result",
          "data": {
            "text/html": [
              "<div>\n",
              "<style scoped>\n",
              "    .dataframe tbody tr th:only-of-type {\n",
              "        vertical-align: middle;\n",
              "    }\n",
              "\n",
              "    .dataframe tbody tr th {\n",
              "        vertical-align: top;\n",
              "    }\n",
              "\n",
              "    .dataframe thead th {\n",
              "        text-align: right;\n",
              "    }\n",
              "</style>\n",
              "<table border=\"1\" class=\"dataframe\">\n",
              "  <thead>\n",
              "    <tr style=\"text-align: right;\">\n",
              "      <th></th>\n",
              "      <th>name</th>\n",
              "      <th>map</th>\n",
              "    </tr>\n",
              "  </thead>\n",
              "  <tbody>\n",
              "    <tr>\n",
              "      <th>0</th>\n",
              "      <td>BR(TF_IDF)</td>\n",
              "      <td>0.36894</td>\n",
              "    </tr>\n",
              "  </tbody>\n",
              "</table>\n",
              "</div>"
            ],
            "text/plain": [
              "         name      map\n",
              "0  BR(TF_IDF)  0.36894"
            ]
          },
          "metadata": {},
          "execution_count": 20
        }
      ]
    },
    {
      "cell_type": "code",
      "metadata": {
        "colab": {
          "base_uri": "https://localhost:8080/",
          "height": 97
        },
        "id": "Ks35rUTEScc3",
        "outputId": "c6cb3927-2a16-473a-96e5-2cb49359a85f"
      },
      "source": [
        "print(\"MAP Score using D3 with average linkage\")\n",
        "!rm -rf ./pd_index\n",
        "pd_indexer_d3 = pt.DFIndexer(\"./pd_index\")\n",
        "indexref_d3 = pd_indexer_d3.index(df_data_d3[\"text\"], df_data_d3[\"docno\"])\n",
        "del pd_indexer_d3\n",
        "batchRetrieval_d3 = [pt.BatchRetrieve(indexref_d3, wmodel='TF_IDF')]\n",
        "pt.Experiment(batchRetrieval_d3, df_queries_d3, qrels, ['map'])"
      ],
      "execution_count": null,
      "outputs": [
        {
          "output_type": "stream",
          "name": "stdout",
          "text": [
            "MAP Score using D3 with average linkage\n"
          ]
        },
        {
          "output_type": "execute_result",
          "data": {
            "text/html": [
              "<div>\n",
              "<style scoped>\n",
              "    .dataframe tbody tr th:only-of-type {\n",
              "        vertical-align: middle;\n",
              "    }\n",
              "\n",
              "    .dataframe tbody tr th {\n",
              "        vertical-align: top;\n",
              "    }\n",
              "\n",
              "    .dataframe thead th {\n",
              "        text-align: right;\n",
              "    }\n",
              "</style>\n",
              "<table border=\"1\" class=\"dataframe\">\n",
              "  <thead>\n",
              "    <tr style=\"text-align: right;\">\n",
              "      <th></th>\n",
              "      <th>name</th>\n",
              "      <th>map</th>\n",
              "    </tr>\n",
              "  </thead>\n",
              "  <tbody>\n",
              "    <tr>\n",
              "      <th>0</th>\n",
              "      <td>BR(TF_IDF)</td>\n",
              "      <td>0.359912</td>\n",
              "    </tr>\n",
              "  </tbody>\n",
              "</table>\n",
              "</div>"
            ],
            "text/plain": [
              "         name       map\n",
              "0  BR(TF_IDF)  0.359912"
            ]
          },
          "metadata": {},
          "execution_count": 21
        }
      ]
    },
    {
      "cell_type": "code",
      "metadata": {
        "colab": {
          "base_uri": "https://localhost:8080/",
          "height": 97
        },
        "id": "8_ZcR4Iu_CZH",
        "outputId": "0c1290d6-10d6-418c-9d20-38c100ad60dd"
      },
      "source": [
        "print(\"MAP Score using D4 with average linkage\")\n",
        "!rm -rf ./pd_index\n",
        "pd_indexer_d4 = pt.DFIndexer(\"./pd_index\")\n",
        "indexref_d4 = pd_indexer_d4.index(df_data_d4[\"text\"], df_data_d4[\"docno\"])\n",
        "del pd_indexer_d4\n",
        "batchRetrieval_d4 = [pt.BatchRetrieve(indexref_d4, wmodel='TF_IDF')]\n",
        "pt.Experiment(batchRetrieval_d4, df_queries_d4, qrels, ['map'])"
      ],
      "execution_count": null,
      "outputs": [
        {
          "output_type": "stream",
          "name": "stdout",
          "text": [
            "MAP Score using D4 with average linkage\n"
          ]
        },
        {
          "output_type": "execute_result",
          "data": {
            "text/html": [
              "<div>\n",
              "<style scoped>\n",
              "    .dataframe tbody tr th:only-of-type {\n",
              "        vertical-align: middle;\n",
              "    }\n",
              "\n",
              "    .dataframe tbody tr th {\n",
              "        vertical-align: top;\n",
              "    }\n",
              "\n",
              "    .dataframe thead th {\n",
              "        text-align: right;\n",
              "    }\n",
              "</style>\n",
              "<table border=\"1\" class=\"dataframe\">\n",
              "  <thead>\n",
              "    <tr style=\"text-align: right;\">\n",
              "      <th></th>\n",
              "      <th>name</th>\n",
              "      <th>map</th>\n",
              "    </tr>\n",
              "  </thead>\n",
              "  <tbody>\n",
              "    <tr>\n",
              "      <th>0</th>\n",
              "      <td>BR(TF_IDF)</td>\n",
              "      <td>0.360361</td>\n",
              "    </tr>\n",
              "  </tbody>\n",
              "</table>\n",
              "</div>"
            ],
            "text/plain": [
              "         name       map\n",
              "0  BR(TF_IDF)  0.360361"
            ]
          },
          "metadata": {},
          "execution_count": 22
        }
      ]
    },
    {
      "cell_type": "code",
      "metadata": {
        "colab": {
          "base_uri": "https://localhost:8080/",
          "height": 97
        },
        "id": "fYMrVsc8_LWW",
        "outputId": "600c77d6-d8dc-4e21-d61f-f3b8d84f9221"
      },
      "source": [
        "print(\"MAP Score using Levenshtein with average linkage\")\n",
        "!rm -rf ./pd_index\n",
        "pd_indexer_lv = pt.DFIndexer(\"./pd_index\")\n",
        "indexref_lv = pd_indexer_lv.index(df_data_lv[\"text\"], df_data_lv[\"docno\"])\n",
        "del pd_indexer_lv\n",
        "batchRetrieval_lv = [pt.BatchRetrieve(indexref_lv, wmodel='TF_IDF')]\n",
        "pt.Experiment(batchRetrieval_lv, df_queries_lv, qrels, ['map'])"
      ],
      "execution_count": null,
      "outputs": [
        {
          "output_type": "stream",
          "name": "stdout",
          "text": [
            "MAP Score using Levenshtein with average linkage\n"
          ]
        },
        {
          "output_type": "execute_result",
          "data": {
            "text/html": [
              "<div>\n",
              "<style scoped>\n",
              "    .dataframe tbody tr th:only-of-type {\n",
              "        vertical-align: middle;\n",
              "    }\n",
              "\n",
              "    .dataframe tbody tr th {\n",
              "        vertical-align: top;\n",
              "    }\n",
              "\n",
              "    .dataframe thead th {\n",
              "        text-align: right;\n",
              "    }\n",
              "</style>\n",
              "<table border=\"1\" class=\"dataframe\">\n",
              "  <thead>\n",
              "    <tr style=\"text-align: right;\">\n",
              "      <th></th>\n",
              "      <th>name</th>\n",
              "      <th>map</th>\n",
              "    </tr>\n",
              "  </thead>\n",
              "  <tbody>\n",
              "    <tr>\n",
              "      <th>0</th>\n",
              "      <td>BR(TF_IDF)</td>\n",
              "      <td>0.358361</td>\n",
              "    </tr>\n",
              "  </tbody>\n",
              "</table>\n",
              "</div>"
            ],
            "text/plain": [
              "         name       map\n",
              "0  BR(TF_IDF)  0.358361"
            ]
          },
          "metadata": {},
          "execution_count": 23
        }
      ]
    },
    {
      "cell_type": "markdown",
      "metadata": {
        "id": "ZD2DJUGUt-pH"
      },
      "source": [
        "# Storing Data for Gensim Word2Vec model training"
      ]
    },
    {
      "cell_type": "code",
      "metadata": {
        "colab": {
          "base_uri": "https://localhost:8080/"
        },
        "id": "dwg4_rvIjB5p",
        "outputId": "cd0ef8b6-2d63-4c14-94bb-1aa2c4734750"
      },
      "source": [
        "print(\"Storing data in corpus for Word2Vec model training.\")\n",
        "corpus = []\n",
        "i = 0\n",
        "for curr_file in files : \n",
        "  corpus.append(curr_file[1])\n",
        "  i = i + 1\n",
        "  if(i%10000==0): print(\"Progress: \", i, \" / \", len(files), \"   Total Words: \", len(corpus))\n",
        "print(\"Data storage completed properly.\")"
      ],
      "execution_count": null,
      "outputs": [
        {
          "output_type": "stream",
          "name": "stdout",
          "text": [
            "Storing data in corpus for Word2Vec model training.\n",
            "Progress:  10000  /  125586    Total Words:  10000\n",
            "Progress:  20000  /  125586    Total Words:  20000\n",
            "Progress:  30000  /  125586    Total Words:  30000\n",
            "Progress:  40000  /  125586    Total Words:  40000\n",
            "Progress:  50000  /  125586    Total Words:  50000\n",
            "Progress:  60000  /  125586    Total Words:  60000\n",
            "Progress:  70000  /  125586    Total Words:  70000\n",
            "Progress:  80000  /  125586    Total Words:  80000\n",
            "Progress:  90000  /  125586    Total Words:  90000\n",
            "Progress:  100000  /  125586    Total Words:  100000\n",
            "Progress:  110000  /  125586    Total Words:  110000\n",
            "Progress:  120000  /  125586    Total Words:  120000\n",
            "Data storage completed properly.\n"
          ]
        }
      ]
    },
    {
      "cell_type": "markdown",
      "metadata": {
        "id": "yFEklNequPp4"
      },
      "source": [
        "# Training Word2Vec model with CBOW approach"
      ]
    },
    {
      "cell_type": "code",
      "metadata": {
        "colab": {
          "base_uri": "https://localhost:8080/"
        },
        "id": "XXsudLv0PTWZ",
        "outputId": "8c5e53f6-3909-4f81-99f3-f16c74459944"
      },
      "source": [
        "from gensim.models import Word2Vec\n",
        "\n",
        "vect_size = 100\n",
        "\n",
        "print(\"Training with CBOW started...\")\n",
        "# Training Word2Vec model using CBOW \n",
        "cbow_model = Word2Vec(corpus, size = vect_size, min_count = 2,window = 10, sg = 0, hs = 1, iter = 5, workers = 10)\n",
        "\n",
        "print(\"Training with CBOW done.\")"
      ],
      "execution_count": null,
      "outputs": [
        {
          "output_type": "stream",
          "name": "stdout",
          "text": [
            "Training with CBOW started...\n",
            "Training with CBOW done.\n"
          ]
        }
      ]
    },
    {
      "cell_type": "markdown",
      "metadata": {
        "id": "r_uNugu6uWjC"
      },
      "source": [
        "# Storing data in proper format for generating stems using Word2Vec vectors"
      ]
    },
    {
      "cell_type": "code",
      "metadata": {
        "colab": {
          "base_uri": "https://localhost:8080/"
        },
        "id": "4VMmBllb1yVc",
        "outputId": "0269ccff-5bbf-4a54-c61b-9de95f261833"
      },
      "source": [
        "print(\"Storing data in corpus for stemming using Word2Vec\")\n",
        "temp_corpus = []\n",
        "for i in range(len(corpus)):\n",
        "  for j in range(len(corpus[i])):\n",
        "    temp_corpus.append(corpus[i][j])\n",
        "corpus = sorted(list(set(temp_corpus)))\n",
        "del temp_corpus\n",
        "print(\"Storage of data completed properly.\")"
      ],
      "execution_count": null,
      "outputs": [
        {
          "output_type": "stream",
          "name": "stdout",
          "text": [
            "Storing data in corpus for stemming using Word2Vec\n",
            "Storage of data completed properly.\n"
          ]
        }
      ]
    },
    {
      "cell_type": "markdown",
      "metadata": {
        "id": "cmeJnpA1udxU"
      },
      "source": [
        "# Generating the clusters vs threshold graph for Word2Vec to determine threshold"
      ]
    },
    {
      "cell_type": "code",
      "metadata": {
        "colab": {
          "base_uri": "https://localhost:8080/",
          "height": 413
        },
        "id": "wKnSe4J1ad7a",
        "outputId": "0aebd2d9-19b0-495f-bdc4-e9bd09ba1c35"
      },
      "source": [
        "size = 1000\n",
        "w2v = []\n",
        "\n",
        "print(\"Calculating Word2Vec based distances...\")\n",
        "count = 0\n",
        "for i in range(size) : \n",
        "  try:\n",
        "    w2v.append(cbow_model.wv.__getitem__(corpus[i]))\n",
        "    count = count + 1\n",
        "    if count%100==0:\n",
        "      print(\"Progress: \", count, \" / \", size)\n",
        "  except:\n",
        "    continue\n",
        "\n",
        "thresholds = [0.5, 1, 1.5, 3, 6]\n",
        "print(\"Clustering based on Word2Vec Distance\")\n",
        "n_clusters = []\n",
        "for threshold in thresholds:\n",
        "    wv_clustering = AgglomerativeClustering(linkage = 'complete', distance_threshold = threshold, n_clusters = None).fit(w2v)\n",
        "    n_clusters.append(wv_clustering.n_clusters_)\n",
        "\n",
        "plt.plot(thresholds, n_clusters)   \n",
        "plt.xlabel('Threshold') \n",
        "plt.ylabel('Number of Clusters')   \n",
        "plt.title('Clusters vs Thresholds for Word2Vec Distance') \n",
        "plt.show()\n"
      ],
      "execution_count": null,
      "outputs": [
        {
          "output_type": "stream",
          "name": "stdout",
          "text": [
            "Calculating Word2Vec based distances...\n",
            "Progress:  100  /  1000\n",
            "Progress:  200  /  1000\n",
            "Progress:  300  /  1000\n",
            "Progress:  400  /  1000\n",
            "Progress:  500  /  1000\n",
            "Clustering based on Word2Vec Distance\n"
          ]
        },
        {
          "output_type": "display_data",
          "data": {
            "image/png": "[encoded data removed]",
            "text/plain": [
              "<Figure size 432x288 with 1 Axes>"
            ]
          },
          "metadata": {
            "needs_background": "light"
          }
        }
      ]
    },
    {
      "cell_type": "markdown",
      "metadata": {
        "id": "A53N9lZduqAJ"
      },
      "source": [
        "# Clustering and Stemming on FIRE dataset using Word2Vec vectors and Agglomerative Clustering with average linkage"
      ]
    },
    {
      "cell_type": "code",
      "metadata": {
        "colab": {
          "base_uri": "https://localhost:8080/"
        },
        "id": "7gGgiumMUyBb",
        "outputId": "1833eb00-e652-4144-cb09-5f17656f476d"
      },
      "source": [
        "print(\"Clustering using Word2Vec started...\")\n",
        "\n",
        "d2 = []\n",
        "dataset_labels_wv = []\n",
        "total_clusters_wv = 0\n",
        "last_count = 0\n",
        "fname = []\n",
        "\n",
        "count = 0\n",
        "for i in range(len(corpus)) : \n",
        "  try:\n",
        "    d2.append(cbow_model.wv.__getitem__(corpus[i]))\n",
        "    count = count + 1\n",
        "  except:\n",
        "    continue\n",
        "  if count%500==0:\n",
        "    last_count = count\n",
        "    d_clustering = AgglomerativeClustering(linkage = \"average\", distance_threshold = 0.7, n_clusters = None).fit(d2)\n",
        "    labels = d_clustering.labels_\n",
        "    num_clusters = d_clustering.n_clusters_\n",
        "    new_labels = [x+total_clusters_wv for x in labels]\n",
        "    dataset_labels_wv.extend(new_labels)\n",
        "    total_clusters_wv = total_clusters_wv + num_clusters\n",
        "    d2.clear()\n",
        "\n",
        "print(\"Clustering using Word2Vec done.\")\n",
        "print(\"Stemming using Word2Vec started...\")\n",
        "stems_wv = make_stems(dataset_labels_wv, total_clusters_wv)\n",
        "\n",
        "fname = []\n",
        "files_temp = []\n",
        "\n",
        "for curr_file in files : \n",
        "  file_words = []\n",
        "  for word in curr_file[1]:\n",
        "    try: \n",
        "      stem_word = stems_wv[dataset_labels_wv[bisect.bisect_left(corpus, word)]]\n",
        "      file_words.append(stem_word)\n",
        "    except:\n",
        "      continue\n",
        "  file_words = ' '.join([str(word) for word in file_words])\n",
        "  if file_words != '':\n",
        "    files_temp.append(file_words)\n",
        "    fname.append(str(curr_file[0]))\n",
        "\n",
        "print(\"Stemming using Word2Vec done.\")\n",
        "df_data_wv = pd.DataFrame({'docno': fname, 'text': files_temp})\n",
        "del files_temp\n",
        "del fname"
      ],
      "execution_count": null,
      "outputs": [
        {
          "output_type": "stream",
          "name": "stdout",
          "text": [
            "Clustering using Word2Vec started...\n",
            "Clustering using Word2Vec done.\n",
            "Stemming using Word2Vec started...\n",
            "Stemming using Word2Vec done.\n"
          ]
        }
      ]
    },
    {
      "cell_type": "markdown",
      "metadata": {
        "id": "lvog_SuAuyTo"
      },
      "source": [
        "# Stemming on Queries using stems generated above"
      ]
    },
    {
      "cell_type": "code",
      "metadata": {
        "colab": {
          "base_uri": "https://localhost:8080/"
        },
        "id": "-P8UwpgYYSO-",
        "outputId": "a6b154a5-37e9-4d4c-cc91-5fc28a06aa5e"
      },
      "source": [
        "print(\"Stemming on Queries using Word2Vec\")\n",
        "files_temp = []\n",
        "qno = []\n",
        "\n",
        "for curr_file in queries : \n",
        "  file_words = []\n",
        "  for word in curr_file[1]:\n",
        "    try: \n",
        "      if word in dataset:\n",
        "        stem_word = stems_wv[dataset_labels_wv[bisect.bisect_left(corpus, word)]]\n",
        "        file_words.append(stem_word)\n",
        "      else:\n",
        "        file_words.append(word)\n",
        "    except:\n",
        "      continue\n",
        "  file_words = ' '.join([str(word) for word in file_words])\n",
        "  files_temp.append(file_words)\n",
        "  qno.append(curr_file[0])\n",
        "\n",
        "df_queries_wv = pd.DataFrame({'qid':qno, 'query':files_temp})\n",
        "del files_temp\n",
        "del qno"
      ],
      "execution_count": null,
      "outputs": [
        {
          "output_type": "stream",
          "name": "stdout",
          "text": [
            "Stemming on Queries using Word2Vec\n"
          ]
        }
      ]
    },
    {
      "cell_type": "markdown",
      "metadata": {
        "id": "JF8GvISvu2Dp"
      },
      "source": [
        "MAP score using Terrier for Word2Vec approach"
      ]
    },
    {
      "cell_type": "code",
      "metadata": {
        "colab": {
          "base_uri": "https://localhost:8080/",
          "height": 97
        },
        "id": "0-IUdDvgYcgj",
        "outputId": "4d8978ee-7715-4cb0-9f8e-fbf604c5cb76"
      },
      "source": [
        "print(\"MAP Score using W2V with average linkage\")\n",
        "!rm -rf ./pd_index\n",
        "pd_indexer_wv = pt.DFIndexer(\"./pd_index\")\n",
        "indexref_wv = pd_indexer_wv.index(df_data_wv[\"text\"], df_data_wv[\"docno\"])\n",
        "del pd_indexer_wv\n",
        "batchRetrieval_wv = [pt.BatchRetrieve(indexref_wv, wmodel='TF_IDF')]\n",
        "pt.Experiment(batchRetrieval_wv, df_queries_wv, qrels, ['map'])"
      ],
      "execution_count": null,
      "outputs": [
        {
          "output_type": "stream",
          "name": "stdout",
          "text": [
            "MAP Score using W2V with average linkage\n"
          ]
        },
        {
          "output_type": "execute_result",
          "data": {
            "text/html": [
              "<div>\n",
              "<style scoped>\n",
              "    .dataframe tbody tr th:only-of-type {\n",
              "        vertical-align: middle;\n",
              "    }\n",
              "\n",
              "    .dataframe tbody tr th {\n",
              "        vertical-align: top;\n",
              "    }\n",
              "\n",
              "    .dataframe thead th {\n",
              "        text-align: right;\n",
              "    }\n",
              "</style>\n",
              "<table border=\"1\" class=\"dataframe\">\n",
              "  <thead>\n",
              "    <tr style=\"text-align: right;\">\n",
              "      <th></th>\n",
              "      <th>name</th>\n",
              "      <th>map</th>\n",
              "    </tr>\n",
              "  </thead>\n",
              "  <tbody>\n",
              "    <tr>\n",
              "      <th>0</th>\n",
              "      <td>BR(TF_IDF)</td>\n",
              "      <td>0.202755</td>\n",
              "    </tr>\n",
              "  </tbody>\n",
              "</table>\n",
              "</div>"
            ],
            "text/plain": [
              "         name       map\n",
              "0  BR(TF_IDF)  0.202755"
            ]
          },
          "metadata": {},
          "execution_count": 30
        }
      ]
    },
    {
      "cell_type": "markdown",
      "metadata": {
        "id": "XztCiJ3mu_SW"
      },
      "source": [
        "# MAP scores using Terrier for PorterStemmer"
      ]
    },
    {
      "cell_type": "code",
      "metadata": {
        "colab": {
          "base_uri": "https://localhost:8080/",
          "height": 97
        },
        "id": "4EEs7c1TGR58",
        "outputId": "91fbb49d-1af0-42c0-8466-6c8b8c65f1eb"
      },
      "source": [
        "print(\"MAP Score using PorterStemmer\")\n",
        "!rm -rf ./pd_index\n",
        "pd_indexer_ps = pt.DFIndexer(\"./pd_index\")\n",
        "indexref_ps = pd_indexer_ps.index(df_data_ps[\"text\"], df_data_ps[\"docno\"])\n",
        "del pd_indexer_ps\n",
        "batchRetrieval_ps = [pt.BatchRetrieve(indexref_ps, wmodel='TF_IDF')]\n",
        "pt.Experiment(batchRetrieval_ps, df_queries_ps, qrels, ['map'])"
      ],
      "execution_count": null,
      "outputs": [
        {
          "output_type": "stream",
          "name": "stdout",
          "text": [
            "MAP Score using PorterStemmer\n"
          ]
        },
        {
          "output_type": "execute_result",
          "data": {
            "text/html": [
              "<div>\n",
              "<style scoped>\n",
              "    .dataframe tbody tr th:only-of-type {\n",
              "        vertical-align: middle;\n",
              "    }\n",
              "\n",
              "    .dataframe tbody tr th {\n",
              "        vertical-align: top;\n",
              "    }\n",
              "\n",
              "    .dataframe thead th {\n",
              "        text-align: right;\n",
              "    }\n",
              "</style>\n",
              "<table border=\"1\" class=\"dataframe\">\n",
              "  <thead>\n",
              "    <tr style=\"text-align: right;\">\n",
              "      <th></th>\n",
              "      <th>name</th>\n",
              "      <th>map</th>\n",
              "    </tr>\n",
              "  </thead>\n",
              "  <tbody>\n",
              "    <tr>\n",
              "      <th>0</th>\n",
              "      <td>BR(TF_IDF)</td>\n",
              "      <td>0.356276</td>\n",
              "    </tr>\n",
              "  </tbody>\n",
              "</table>\n",
              "</div>"
            ],
            "text/plain": [
              "         name       map\n",
              "0  BR(TF_IDF)  0.356276"
            ]
          },
          "metadata": {},
          "execution_count": 31
        }
      ]
    }
  ]
}